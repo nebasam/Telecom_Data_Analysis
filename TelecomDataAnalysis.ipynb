{
  "nbformat": 4,
  "nbformat_minor": 0,
  "metadata": {
    "colab": {
      "name": "TelecomDataAnalysis.ipynb",
      "provenance": []
    },
    "kernelspec": {
      "name": "python3",
      "display_name": "Python 3.8.8 64-bit ('base': conda)"
    },
    "language_info": {
      "name": "python",
      "version": "3.8.8"
    },
    "interpreter": {
      "hash": "9c0f1e318bdb47e5f7ab1d1d2f2405942288e15c333a08ed2515f61b70143952"
    }
  },
  "cells": [
    {
      "cell_type": "code",
      "metadata": {
        "id": "zmsDku0zE8Pj"
      },
      "source": [
        "import numpy as np\n",
        "import pandas as pd\n",
        "import seaborn as sns\n"
      ],
      "execution_count": 2,
      "outputs": []
    },
    {
      "cell_type": "code",
      "metadata": {
        "id": "SDEVN7SqFCrE"
      },
      "source": [
        "import warnings"
      ],
      "execution_count": 3,
      "outputs": []
    },
    {
      "cell_type": "code",
      "metadata": {
        "colab": {
          "base_uri": "https://localhost:8080/",
          "height": 513
        },
        "id": "hgbMhnB-FTcq",
        "outputId": "d872e509-f606-42bc-c66f-d4a3831a74e9"
      },
      "source": [
        "warnings.filterwarnings('ignore')\n",
        "pd.set_option('max_column', None)\n",
        "db = pd.read_csv('Week1_challenge_data_source(CSV).csv',na_values=['?', None])\n",
        "db.head()"
      ],
      "execution_count": 4,
      "outputs": [
        {
          "output_type": "execute_result",
          "data": {
            "text/plain": [
              "      Bearer Id            Start  Start ms              End  End ms  \\\n",
              "0  1.311448e+19   4/4/2019 12:01     770.0  4/25/2019 14:35   662.0   \n",
              "1  1.311448e+19   4/9/2019 13:04     235.0   4/25/2019 8:15   606.0   \n",
              "2  1.311448e+19   4/9/2019 17:42       1.0  4/25/2019 11:58   652.0   \n",
              "3  1.311448e+19   4/10/2019 0:31     486.0   4/25/2019 7:36   171.0   \n",
              "4  1.311448e+19  4/12/2019 20:10     565.0  4/25/2019 10:40   954.0   \n",
              "\n",
              "   Dur. (ms)          IMSI  MSISDN/Number          IMEI  \\\n",
              "0  1823652.0  2.082014e+14   3.366496e+10  3.552121e+13   \n",
              "1  1365104.0  2.082019e+14   3.368185e+10  3.579401e+13   \n",
              "2  1361762.0  2.082003e+14   3.376063e+10  3.528151e+13   \n",
              "3  1321509.0  2.082014e+14   3.375034e+10  3.535661e+13   \n",
              "4  1089009.0  2.082014e+14   3.369980e+10  3.540701e+13   \n",
              "\n",
              "      Last Location Name  Avg RTT DL (ms)  Avg RTT UL (ms)  \\\n",
              "0  9.16456699548519E+015             42.0              5.0   \n",
              "1                L77566A             65.0              5.0   \n",
              "2                D42335A              NaN              NaN   \n",
              "3                T21824A              NaN              NaN   \n",
              "4                D88865A              NaN              NaN   \n",
              "\n",
              "   Avg Bearer TP DL (kbps)  Avg Bearer TP UL (kbps)  \\\n",
              "0                     23.0                     44.0   \n",
              "1                     16.0                     26.0   \n",
              "2                      6.0                      9.0   \n",
              "3                     44.0                     44.0   \n",
              "4                      6.0                      9.0   \n",
              "\n",
              "   TCP DL Retrans. Vol (Bytes)  TCP UL Retrans. Vol (Bytes)  \\\n",
              "0                          NaN                          NaN   \n",
              "1                          NaN                          NaN   \n",
              "2                          NaN                          NaN   \n",
              "3                          NaN                          NaN   \n",
              "4                          NaN                          NaN   \n",
              "\n",
              "   DL TP < 50 Kbps (%)  50 Kbps < DL TP < 250 Kbps (%)  \\\n",
              "0                100.0                             0.0   \n",
              "1                100.0                             0.0   \n",
              "2                100.0                             0.0   \n",
              "3                100.0                             0.0   \n",
              "4                100.0                             0.0   \n",
              "\n",
              "   250 Kbps < DL TP < 1 Mbps (%)  DL TP > 1 Mbps (%)  UL TP < 10 Kbps (%)  \\\n",
              "0                            0.0                 0.0                100.0   \n",
              "1                            0.0                 0.0                100.0   \n",
              "2                            0.0                 0.0                100.0   \n",
              "3                            0.0                 0.0                100.0   \n",
              "4                            0.0                 0.0                100.0   \n",
              "\n",
              "   10 Kbps < UL TP < 50 Kbps (%)  50 Kbps < UL TP < 300 Kbps (%)  \\\n",
              "0                            0.0                             0.0   \n",
              "1                            0.0                             0.0   \n",
              "2                            0.0                             0.0   \n",
              "3                            0.0                             0.0   \n",
              "4                            0.0                             0.0   \n",
              "\n",
              "   UL TP > 300 Kbps (%)  HTTP DL (Bytes)  HTTP UL (Bytes)  \\\n",
              "0                   0.0              NaN              NaN   \n",
              "1                   0.0              NaN              NaN   \n",
              "2                   0.0              NaN              NaN   \n",
              "3                   0.0              NaN              NaN   \n",
              "4                   0.0              NaN              NaN   \n",
              "\n",
              "   Activity Duration DL (ms)  Activity Duration UL (ms)   Dur. (ms).1  \\\n",
              "0                    37624.0                    38787.0  1.823653e+09   \n",
              "1                      168.0                     3560.0  1.365104e+09   \n",
              "2                        0.0                        0.0  1.361763e+09   \n",
              "3                     3330.0                    37882.0  1.321510e+09   \n",
              "4                        0.0                        0.0  1.089009e+09   \n",
              "\n",
              "  Handset Manufacturer                 Handset Type  \\\n",
              "0              Samsung   Samsung Galaxy A5 Sm-A520F   \n",
              "1              Samsung  Samsung Galaxy J5 (Sm-J530)   \n",
              "2              Samsung     Samsung Galaxy A8 (2018)   \n",
              "3            undefined                    undefined   \n",
              "4              Samsung             Samsung Sm-G390F   \n",
              "\n",
              "   Nb of sec with 125000B < Vol DL  Nb of sec with 1250B < Vol UL < 6250B  \\\n",
              "0                              NaN                                    NaN   \n",
              "1                              NaN                                    NaN   \n",
              "2                              NaN                                    NaN   \n",
              "3                              NaN                                    NaN   \n",
              "4                              NaN                                    NaN   \n",
              "\n",
              "   Nb of sec with 31250B < Vol DL < 125000B  Nb of sec with 37500B < Vol UL  \\\n",
              "0                                       NaN                             NaN   \n",
              "1                                       NaN                             NaN   \n",
              "2                                       NaN                             NaN   \n",
              "3                                       NaN                             NaN   \n",
              "4                                       NaN                             NaN   \n",
              "\n",
              "   Nb of sec with 6250B < Vol DL < 31250B  \\\n",
              "0                                     NaN   \n",
              "1                                     NaN   \n",
              "2                                     NaN   \n",
              "3                                     NaN   \n",
              "4                                     NaN   \n",
              "\n",
              "   Nb of sec with 6250B < Vol UL < 37500B  Nb of sec with Vol DL < 6250B  \\\n",
              "0                                     NaN                          213.0   \n",
              "1                                     NaN                          971.0   \n",
              "2                                     NaN                          751.0   \n",
              "3                                     NaN                           17.0   \n",
              "4                                     NaN                          607.0   \n",
              "\n",
              "   Nb of sec with Vol UL < 1250B  Social Media DL (Bytes)  \\\n",
              "0                          214.0                1545765.0   \n",
              "1                         1022.0                1926113.0   \n",
              "2                          695.0                1684053.0   \n",
              "3                          207.0                 644121.0   \n",
              "4                          604.0                 862600.0   \n",
              "\n",
              "   Social Media UL (Bytes)  Google DL (Bytes)  Google UL (Bytes)  \\\n",
              "0                  24420.0          1634479.0          1271433.0   \n",
              "1                   7165.0          3493924.0           920172.0   \n",
              "2                  42224.0          8535055.0          1694064.0   \n",
              "3                  13372.0          9023734.0          2788027.0   \n",
              "4                  50188.0          6248284.0          1500559.0   \n",
              "\n",
              "   Email DL (Bytes)  Email UL (Bytes)  Youtube DL (Bytes)  Youtube UL (Bytes)  \\\n",
              "0         3563542.0          137762.0          15854611.0           2501332.0   \n",
              "1          629046.0          308339.0          20247395.0          19111729.0   \n",
              "2         2690151.0          672973.0          19725661.0          14699576.0   \n",
              "3         1439754.0          631229.0          21388122.0          15146643.0   \n",
              "4         1936496.0          173853.0          15259380.0          18962873.0   \n",
              "\n",
              "   Netflix DL (Bytes)  Netflix UL (Bytes)  Gaming DL (Bytes)  \\\n",
              "0           8198936.0           9656251.0        278082303.0   \n",
              "1          18338413.0          17227132.0        608750074.0   \n",
              "2          17587794.0           6163408.0        229584621.0   \n",
              "3          13994646.0           1097942.0        799538153.0   \n",
              "4          17124581.0            415218.0        527707248.0   \n",
              "\n",
              "   Gaming UL (Bytes)  Other DL (Bytes)  Other UL (Bytes)  Total UL (Bytes)  \\\n",
              "0         14344150.0       171744450.0         8814393.0        36749741.0   \n",
              "1          1170709.0       526904238.0        15055145.0        53800391.0   \n",
              "2           395630.0       410692588.0         4215763.0        27883638.0   \n",
              "3         10849722.0       749039933.0        12797283.0        43324218.0   \n",
              "4          3529801.0       550709500.0        13910322.0        38542814.0   \n",
              "\n",
              "   Total DL (Bytes)  \n",
              "0       308879636.0  \n",
              "1       653384965.0  \n",
              "2       279807335.0  \n",
              "3       846028530.0  \n",
              "4       569138589.0  "
            ],
            "text/html": "<div>\n<style scoped>\n    .dataframe tbody tr th:only-of-type {\n        vertical-align: middle;\n    }\n\n    .dataframe tbody tr th {\n        vertical-align: top;\n    }\n\n    .dataframe thead th {\n        text-align: right;\n    }\n</style>\n<table border=\"1\" class=\"dataframe\">\n  <thead>\n    <tr style=\"text-align: right;\">\n      <th></th>\n      <th>Bearer Id</th>\n      <th>Start</th>\n      <th>Start ms</th>\n      <th>End</th>\n      <th>End ms</th>\n      <th>Dur. (ms)</th>\n      <th>IMSI</th>\n      <th>MSISDN/Number</th>\n      <th>IMEI</th>\n      <th>Last Location Name</th>\n      <th>Avg RTT DL (ms)</th>\n      <th>Avg RTT UL (ms)</th>\n      <th>Avg Bearer TP DL (kbps)</th>\n      <th>Avg Bearer TP UL (kbps)</th>\n      <th>TCP DL Retrans. Vol (Bytes)</th>\n      <th>TCP UL Retrans. Vol (Bytes)</th>\n      <th>DL TP &lt; 50 Kbps (%)</th>\n      <th>50 Kbps &lt; DL TP &lt; 250 Kbps (%)</th>\n      <th>250 Kbps &lt; DL TP &lt; 1 Mbps (%)</th>\n      <th>DL TP &gt; 1 Mbps (%)</th>\n      <th>UL TP &lt; 10 Kbps (%)</th>\n      <th>10 Kbps &lt; UL TP &lt; 50 Kbps (%)</th>\n      <th>50 Kbps &lt; UL TP &lt; 300 Kbps (%)</th>\n      <th>UL TP &gt; 300 Kbps (%)</th>\n      <th>HTTP DL (Bytes)</th>\n      <th>HTTP UL (Bytes)</th>\n      <th>Activity Duration DL (ms)</th>\n      <th>Activity Duration UL (ms)</th>\n      <th>Dur. (ms).1</th>\n      <th>Handset Manufacturer</th>\n      <th>Handset Type</th>\n      <th>Nb of sec with 125000B &lt; Vol DL</th>\n      <th>Nb of sec with 1250B &lt; Vol UL &lt; 6250B</th>\n      <th>Nb of sec with 31250B &lt; Vol DL &lt; 125000B</th>\n      <th>Nb of sec with 37500B &lt; Vol UL</th>\n      <th>Nb of sec with 6250B &lt; Vol DL &lt; 31250B</th>\n      <th>Nb of sec with 6250B &lt; Vol UL &lt; 37500B</th>\n      <th>Nb of sec with Vol DL &lt; 6250B</th>\n      <th>Nb of sec with Vol UL &lt; 1250B</th>\n      <th>Social Media DL (Bytes)</th>\n      <th>Social Media UL (Bytes)</th>\n      <th>Google DL (Bytes)</th>\n      <th>Google UL (Bytes)</th>\n      <th>Email DL (Bytes)</th>\n      <th>Email UL (Bytes)</th>\n      <th>Youtube DL (Bytes)</th>\n      <th>Youtube UL (Bytes)</th>\n      <th>Netflix DL (Bytes)</th>\n      <th>Netflix UL (Bytes)</th>\n      <th>Gaming DL (Bytes)</th>\n      <th>Gaming UL (Bytes)</th>\n      <th>Other DL (Bytes)</th>\n      <th>Other UL (Bytes)</th>\n      <th>Total UL (Bytes)</th>\n      <th>Total DL (Bytes)</th>\n    </tr>\n  </thead>\n  <tbody>\n    <tr>\n      <th>0</th>\n      <td>1.311448e+19</td>\n      <td>4/4/2019 12:01</td>\n      <td>770.0</td>\n      <td>4/25/2019 14:35</td>\n      <td>662.0</td>\n      <td>1823652.0</td>\n      <td>2.082014e+14</td>\n      <td>3.366496e+10</td>\n      <td>3.552121e+13</td>\n      <td>9.16456699548519E+015</td>\n      <td>42.0</td>\n      <td>5.0</td>\n      <td>23.0</td>\n      <td>44.0</td>\n      <td>NaN</td>\n      <td>NaN</td>\n      <td>100.0</td>\n      <td>0.0</td>\n      <td>0.0</td>\n      <td>0.0</td>\n      <td>100.0</td>\n      <td>0.0</td>\n      <td>0.0</td>\n      <td>0.0</td>\n      <td>NaN</td>\n      <td>NaN</td>\n      <td>37624.0</td>\n      <td>38787.0</td>\n      <td>1.823653e+09</td>\n      <td>Samsung</td>\n      <td>Samsung Galaxy A5 Sm-A520F</td>\n      <td>NaN</td>\n      <td>NaN</td>\n      <td>NaN</td>\n      <td>NaN</td>\n      <td>NaN</td>\n      <td>NaN</td>\n      <td>213.0</td>\n      <td>214.0</td>\n      <td>1545765.0</td>\n      <td>24420.0</td>\n      <td>1634479.0</td>\n      <td>1271433.0</td>\n      <td>3563542.0</td>\n      <td>137762.0</td>\n      <td>15854611.0</td>\n      <td>2501332.0</td>\n      <td>8198936.0</td>\n      <td>9656251.0</td>\n      <td>278082303.0</td>\n      <td>14344150.0</td>\n      <td>171744450.0</td>\n      <td>8814393.0</td>\n      <td>36749741.0</td>\n      <td>308879636.0</td>\n    </tr>\n    <tr>\n      <th>1</th>\n      <td>1.311448e+19</td>\n      <td>4/9/2019 13:04</td>\n      <td>235.0</td>\n      <td>4/25/2019 8:15</td>\n      <td>606.0</td>\n      <td>1365104.0</td>\n      <td>2.082019e+14</td>\n      <td>3.368185e+10</td>\n      <td>3.579401e+13</td>\n      <td>L77566A</td>\n      <td>65.0</td>\n      <td>5.0</td>\n      <td>16.0</td>\n      <td>26.0</td>\n      <td>NaN</td>\n      <td>NaN</td>\n      <td>100.0</td>\n      <td>0.0</td>\n      <td>0.0</td>\n      <td>0.0</td>\n      <td>100.0</td>\n      <td>0.0</td>\n      <td>0.0</td>\n      <td>0.0</td>\n      <td>NaN</td>\n      <td>NaN</td>\n      <td>168.0</td>\n      <td>3560.0</td>\n      <td>1.365104e+09</td>\n      <td>Samsung</td>\n      <td>Samsung Galaxy J5 (Sm-J530)</td>\n      <td>NaN</td>\n      <td>NaN</td>\n      <td>NaN</td>\n      <td>NaN</td>\n      <td>NaN</td>\n      <td>NaN</td>\n      <td>971.0</td>\n      <td>1022.0</td>\n      <td>1926113.0</td>\n      <td>7165.0</td>\n      <td>3493924.0</td>\n      <td>920172.0</td>\n      <td>629046.0</td>\n      <td>308339.0</td>\n      <td>20247395.0</td>\n      <td>19111729.0</td>\n      <td>18338413.0</td>\n      <td>17227132.0</td>\n      <td>608750074.0</td>\n      <td>1170709.0</td>\n      <td>526904238.0</td>\n      <td>15055145.0</td>\n      <td>53800391.0</td>\n      <td>653384965.0</td>\n    </tr>\n    <tr>\n      <th>2</th>\n      <td>1.311448e+19</td>\n      <td>4/9/2019 17:42</td>\n      <td>1.0</td>\n      <td>4/25/2019 11:58</td>\n      <td>652.0</td>\n      <td>1361762.0</td>\n      <td>2.082003e+14</td>\n      <td>3.376063e+10</td>\n      <td>3.528151e+13</td>\n      <td>D42335A</td>\n      <td>NaN</td>\n      <td>NaN</td>\n      <td>6.0</td>\n      <td>9.0</td>\n      <td>NaN</td>\n      <td>NaN</td>\n      <td>100.0</td>\n      <td>0.0</td>\n      <td>0.0</td>\n      <td>0.0</td>\n      <td>100.0</td>\n      <td>0.0</td>\n      <td>0.0</td>\n      <td>0.0</td>\n      <td>NaN</td>\n      <td>NaN</td>\n      <td>0.0</td>\n      <td>0.0</td>\n      <td>1.361763e+09</td>\n      <td>Samsung</td>\n      <td>Samsung Galaxy A8 (2018)</td>\n      <td>NaN</td>\n      <td>NaN</td>\n      <td>NaN</td>\n      <td>NaN</td>\n      <td>NaN</td>\n      <td>NaN</td>\n      <td>751.0</td>\n      <td>695.0</td>\n      <td>1684053.0</td>\n      <td>42224.0</td>\n      <td>8535055.0</td>\n      <td>1694064.0</td>\n      <td>2690151.0</td>\n      <td>672973.0</td>\n      <td>19725661.0</td>\n      <td>14699576.0</td>\n      <td>17587794.0</td>\n      <td>6163408.0</td>\n      <td>229584621.0</td>\n      <td>395630.0</td>\n      <td>410692588.0</td>\n      <td>4215763.0</td>\n      <td>27883638.0</td>\n      <td>279807335.0</td>\n    </tr>\n    <tr>\n      <th>3</th>\n      <td>1.311448e+19</td>\n      <td>4/10/2019 0:31</td>\n      <td>486.0</td>\n      <td>4/25/2019 7:36</td>\n      <td>171.0</td>\n      <td>1321509.0</td>\n      <td>2.082014e+14</td>\n      <td>3.375034e+10</td>\n      <td>3.535661e+13</td>\n      <td>T21824A</td>\n      <td>NaN</td>\n      <td>NaN</td>\n      <td>44.0</td>\n      <td>44.0</td>\n      <td>NaN</td>\n      <td>NaN</td>\n      <td>100.0</td>\n      <td>0.0</td>\n      <td>0.0</td>\n      <td>0.0</td>\n      <td>100.0</td>\n      <td>0.0</td>\n      <td>0.0</td>\n      <td>0.0</td>\n      <td>NaN</td>\n      <td>NaN</td>\n      <td>3330.0</td>\n      <td>37882.0</td>\n      <td>1.321510e+09</td>\n      <td>undefined</td>\n      <td>undefined</td>\n      <td>NaN</td>\n      <td>NaN</td>\n      <td>NaN</td>\n      <td>NaN</td>\n      <td>NaN</td>\n      <td>NaN</td>\n      <td>17.0</td>\n      <td>207.0</td>\n      <td>644121.0</td>\n      <td>13372.0</td>\n      <td>9023734.0</td>\n      <td>2788027.0</td>\n      <td>1439754.0</td>\n      <td>631229.0</td>\n      <td>21388122.0</td>\n      <td>15146643.0</td>\n      <td>13994646.0</td>\n      <td>1097942.0</td>\n      <td>799538153.0</td>\n      <td>10849722.0</td>\n      <td>749039933.0</td>\n      <td>12797283.0</td>\n      <td>43324218.0</td>\n      <td>846028530.0</td>\n    </tr>\n    <tr>\n      <th>4</th>\n      <td>1.311448e+19</td>\n      <td>4/12/2019 20:10</td>\n      <td>565.0</td>\n      <td>4/25/2019 10:40</td>\n      <td>954.0</td>\n      <td>1089009.0</td>\n      <td>2.082014e+14</td>\n      <td>3.369980e+10</td>\n      <td>3.540701e+13</td>\n      <td>D88865A</td>\n      <td>NaN</td>\n      <td>NaN</td>\n      <td>6.0</td>\n      <td>9.0</td>\n      <td>NaN</td>\n      <td>NaN</td>\n      <td>100.0</td>\n      <td>0.0</td>\n      <td>0.0</td>\n      <td>0.0</td>\n      <td>100.0</td>\n      <td>0.0</td>\n      <td>0.0</td>\n      <td>0.0</td>\n      <td>NaN</td>\n      <td>NaN</td>\n      <td>0.0</td>\n      <td>0.0</td>\n      <td>1.089009e+09</td>\n      <td>Samsung</td>\n      <td>Samsung Sm-G390F</td>\n      <td>NaN</td>\n      <td>NaN</td>\n      <td>NaN</td>\n      <td>NaN</td>\n      <td>NaN</td>\n      <td>NaN</td>\n      <td>607.0</td>\n      <td>604.0</td>\n      <td>862600.0</td>\n      <td>50188.0</td>\n      <td>6248284.0</td>\n      <td>1500559.0</td>\n      <td>1936496.0</td>\n      <td>173853.0</td>\n      <td>15259380.0</td>\n      <td>18962873.0</td>\n      <td>17124581.0</td>\n      <td>415218.0</td>\n      <td>527707248.0</td>\n      <td>3529801.0</td>\n      <td>550709500.0</td>\n      <td>13910322.0</td>\n      <td>38542814.0</td>\n      <td>569138589.0</td>\n    </tr>\n  </tbody>\n</table>\n</div>"
          },
          "metadata": {},
          "execution_count": 4
        }
      ]
    },
    {
      "cell_type": "code",
      "metadata": {
        "colab": {
          "base_uri": "https://localhost:8080/"
        },
        "id": "lDkpTZNLFXdn",
        "outputId": "34f8bc71-27b2-4e3e-be2f-5db7aa8c816d"
      },
      "source": [
        "# column names\n",
        "db.columns.tolist()"
      ],
      "execution_count": 5,
      "outputs": [
        {
          "output_type": "execute_result",
          "data": {
            "text/plain": [
              "['Bearer Id',\n",
              " 'Start',\n",
              " 'Start ms',\n",
              " 'End',\n",
              " 'End ms',\n",
              " 'Dur. (ms)',\n",
              " 'IMSI',\n",
              " 'MSISDN/Number',\n",
              " 'IMEI',\n",
              " 'Last Location Name',\n",
              " 'Avg RTT DL (ms)',\n",
              " 'Avg RTT UL (ms)',\n",
              " 'Avg Bearer TP DL (kbps)',\n",
              " 'Avg Bearer TP UL (kbps)',\n",
              " 'TCP DL Retrans. Vol (Bytes)',\n",
              " 'TCP UL Retrans. Vol (Bytes)',\n",
              " 'DL TP < 50 Kbps (%)',\n",
              " '50 Kbps < DL TP < 250 Kbps (%)',\n",
              " '250 Kbps < DL TP < 1 Mbps (%)',\n",
              " 'DL TP > 1 Mbps (%)',\n",
              " 'UL TP < 10 Kbps (%)',\n",
              " '10 Kbps < UL TP < 50 Kbps (%)',\n",
              " '50 Kbps < UL TP < 300 Kbps (%)',\n",
              " 'UL TP > 300 Kbps (%)',\n",
              " 'HTTP DL (Bytes)',\n",
              " 'HTTP UL (Bytes)',\n",
              " 'Activity Duration DL (ms)',\n",
              " 'Activity Duration UL (ms)',\n",
              " 'Dur. (ms).1',\n",
              " 'Handset Manufacturer',\n",
              " 'Handset Type',\n",
              " 'Nb of sec with 125000B < Vol DL',\n",
              " 'Nb of sec with 1250B < Vol UL < 6250B',\n",
              " 'Nb of sec with 31250B < Vol DL < 125000B',\n",
              " 'Nb of sec with 37500B < Vol UL',\n",
              " 'Nb of sec with 6250B < Vol DL < 31250B',\n",
              " 'Nb of sec with 6250B < Vol UL < 37500B',\n",
              " 'Nb of sec with Vol DL < 6250B',\n",
              " 'Nb of sec with Vol UL < 1250B',\n",
              " 'Social Media DL (Bytes)',\n",
              " 'Social Media UL (Bytes)',\n",
              " 'Google DL (Bytes)',\n",
              " 'Google UL (Bytes)',\n",
              " 'Email DL (Bytes)',\n",
              " 'Email UL (Bytes)',\n",
              " 'Youtube DL (Bytes)',\n",
              " 'Youtube UL (Bytes)',\n",
              " 'Netflix DL (Bytes)',\n",
              " 'Netflix UL (Bytes)',\n",
              " 'Gaming DL (Bytes)',\n",
              " 'Gaming UL (Bytes)',\n",
              " 'Other DL (Bytes)',\n",
              " 'Other UL (Bytes)',\n",
              " 'Total UL (Bytes)',\n",
              " 'Total DL (Bytes)']"
            ]
          },
          "metadata": {},
          "execution_count": 5
        }
      ]
    },
    {
      "cell_type": "code",
      "metadata": {
        "colab": {
          "base_uri": "https://localhost:8080/"
        },
        "id": "utomeKEMMWh2",
        "outputId": "008eb209-6200-4583-c2a8-775b8f7ca539"
      },
      "source": [
        "# number of data points\n",
        "print(f\" There are {db.shape[0]} rows and {db.shape[1]} columns\")"
      ],
      "execution_count": 6,
      "outputs": [
        {
          "output_type": "stream",
          "name": "stdout",
          "text": [
            " There are 150001 rows and 55 columns\n"
          ]
        }
      ]
    },
    {
      "cell_type": "code",
      "metadata": {
        "colab": {
          "base_uri": "https://localhost:8080/"
        },
        "id": "bxldrGQANZ56",
        "outputId": "5d5d4088-aba9-4d19-9682-5304b51084c0"
      },
      "source": [
        "# how many missing values exist or better still what is the % of missing values in the dataset?\n",
        "def percent_missing(df):\n",
        "\n",
        "    # Calculate total number of cells in dataframe\n",
        "    totalCells = np.product(df.shape)\n",
        "\n",
        "    # Count number of missing values per column\n",
        "    missingCount = df.isnull().sum()\n",
        "\n",
        "    # Calculate total number of missing values\n",
        "    totalMissing = missingCount.sum()\n",
        "\n",
        "    # Calculate percentage of missing values\n",
        "    print(\"The telecom dataset contains\", round(((totalMissing/totalCells) * 100), 2), \"%\", \"missing values.\")\n",
        "    \n",
        "percent_missing(db)"
      ],
      "execution_count": 7,
      "outputs": [
        {
          "output_type": "stream",
          "name": "stdout",
          "text": [
            "The telecom dataset contains 12.5 % missing values.\n"
          ]
        }
      ]
    },
    {
      "cell_type": "code",
      "metadata": {
        "colab": {
          "base_uri": "https://localhost:8080/"
        },
        "id": "OR_D0fssxIAh",
        "outputId": "29044fe6-2293-4ffa-c358-6c9b29577eaa"
      },
      "source": [
        "# drop columns with more than 30% missing values\n",
        "df_clean = db.dropna(thresh=db.shape[0]*0.7,how='all', axis=1)\n",
        "df_clean.shape"
      ],
      "execution_count": 8,
      "outputs": [
        {
          "output_type": "execute_result",
          "data": {
            "text/plain": [
              "(150001, 45)"
            ]
          },
          "metadata": {},
          "execution_count": 8
        }
      ]
    },
    {
      "cell_type": "code",
      "metadata": {
        "colab": {
          "base_uri": "https://localhost:8080/"
        },
        "id": "FJHNc0EapqVd",
        "outputId": "7b047996-8675-493b-d062-48c951e69380"
      },
      "source": [
        "#\n",
        "n = 10\n",
        "df_clean['Handset Type'].value_counts()[:n]"
      ],
      "execution_count": 9,
      "outputs": [
        {
          "output_type": "execute_result",
          "data": {
            "text/plain": [
              "Huawei B528S-23A                19752\n",
              "Apple iPhone 6S (A1688)          9419\n",
              "Apple iPhone 6 (A1586)           9023\n",
              "undefined                        8987\n",
              "Apple iPhone 7 (A1778)           6326\n",
              "Apple iPhone Se (A1723)          5187\n",
              "Apple iPhone 8 (A1905)           4993\n",
              "Apple iPhone Xr (A2105)          4568\n",
              "Samsung Galaxy S8 (Sm-G950F)     4520\n",
              "Apple iPhone X (A1901)           3813\n",
              "Name: Handset Type, dtype: int64"
            ]
          },
          "metadata": {},
          "execution_count": 9
        }
      ]
    },
    {
      "cell_type": "code",
      "metadata": {
        "colab": {
          "base_uri": "https://localhost:8080/"
        },
        "id": "jesqbeDZugXx",
        "outputId": "fa21fcf4-1217-4bf9-83f9-f8541cca53a3"
      },
      "source": [
        "#\n",
        "n = 3\n",
        "df_clean['Handset Manufacturer'].value_counts()[:n]\n"
      ],
      "execution_count": 10,
      "outputs": [
        {
          "output_type": "execute_result",
          "data": {
            "text/plain": [
              "Apple      59565\n",
              "Samsung    40839\n",
              "Huawei     34423\n",
              "Name: Handset Manufacturer, dtype: int64"
            ]
          },
          "metadata": {},
          "execution_count": 10
        }
      ]
    },
    {
      "cell_type": "code",
      "metadata": {
        "colab": {
          "base_uri": "https://localhost:8080/"
        },
        "id": "k2IZFf6nKQWy",
        "outputId": "d6575c12-86ac-4489-f69f-562a4079696d"
      },
      "source": [
        "#  identify the top 5 handsets per top 3 handset manufacturer\n",
        "\n",
        "def group_by_manufacturer(manufacturer):\n",
        "    n = 5\n",
        "    HandSet_manu_grp = df_clean.groupby(['Handset Manufacturer'])\n",
        "    TOpFive = HandSet_manu_grp.get_group(manufacturer)['Handset Type'].value_counts()[:n]\n",
        "    return TOpFive\n",
        "group_by_manufacturer(manufacturer='Apple')"
      ],
      "execution_count": 11,
      "outputs": [
        {
          "output_type": "execute_result",
          "data": {
            "text/plain": [
              "Apple iPhone 6S (A1688)    9419\n",
              "Apple iPhone 6 (A1586)     9023\n",
              "Apple iPhone 7 (A1778)     6326\n",
              "Apple iPhone Se (A1723)    5187\n",
              "Apple iPhone 8 (A1905)     4993\n",
              "Name: Handset Type, dtype: int64"
            ]
          },
          "metadata": {},
          "execution_count": 11
        }
      ]
    },
    {
      "cell_type": "code",
      "execution_count": 12,
      "metadata": {},
      "outputs": [
        {
          "output_type": "execute_result",
          "data": {
            "text/plain": [
              "Samsung Galaxy S8 (Sm-G950F)    4520\n",
              "Samsung Galaxy A5 Sm-A520F      3724\n",
              "Samsung Galaxy J5 (Sm-J530)     3696\n",
              "Samsung Galaxy J3 (Sm-J330)     3484\n",
              "Samsung Galaxy S7 (Sm-G930X)    3199\n",
              "Name: Handset Type, dtype: int64"
            ]
          },
          "metadata": {},
          "execution_count": 12
        }
      ],
      "source": [
        "group_by_manufacturer(manufacturer='Samsung')"
      ]
    },
    {
      "cell_type": "code",
      "execution_count": 13,
      "metadata": {},
      "outputs": [
        {
          "output_type": "execute_result",
          "data": {
            "text/plain": [
              "Huawei B528S-23A                  19752\n",
              "Huawei E5180                       2079\n",
              "Huawei P20 Lite Huawei Nova 3E     2021\n",
              "Huawei P20                         1480\n",
              "Huawei Y6 2018                      997\n",
              "Name: Handset Type, dtype: int64"
            ]
          },
          "metadata": {},
          "execution_count": 13
        }
      ],
      "source": [
        "group_by_manufacturer(manufacturer='Huawei')"
      ]
    },
    {
      "cell_type": "code",
      "execution_count": 14,
      "metadata": {},
      "outputs": [],
      "source": [
        "def adding_columns(name,column1,column2):\n",
        "    df_clean[name] = df_clean[column1] + df_clean[column2]\n",
        "    return\n",
        "\n",
        "adding_columns(name='Total_UL_DL',column1='Total UL (Bytes)',column2='Total DL (Bytes)')\n",
        "adding_columns(name='Social Media_UL_DL',column1='Social Media DL (Bytes)',column2='Social Media UL (Bytes)')\n",
        "adding_columns(name='Google_UL_DL',column1='Google DL (Bytes)',column2='Google UL (Bytes)')\n",
        "adding_columns(name='Email_UL_DL',column1='Email DL (Bytes)',column2='Email DL (Bytes)')\n",
        "adding_columns(name='Youtube_UL_DL',column1='Youtube DL (Bytes)',column2='Youtube DL (Bytes)')\n",
        "adding_columns(name='Netflix_UL_DL',column1='Netflix DL (Bytes)',column2='Netflix UL (Bytes)')\n",
        "adding_columns(name='Gaming_UL_DL',column1='Gaming DL (Bytes)',column2='Gaming UL (Bytes)')\n",
        "adding_columns(name='Other_UL_DL',column1='Other DL (Bytes)',column2='Other UL (Bytes)')\n"
      ]
    },
    {
      "cell_type": "code",
      "execution_count": 20,
      "metadata": {},
      "outputs": [
        {
          "output_type": "execute_result",
          "data": {
            "text/plain": [
              "(150001, 53)"
            ]
          },
          "metadata": {},
          "execution_count": 20
        }
      ],
      "source": [
        "df_clean.shape"
      ]
    },
    {
      "cell_type": "code",
      "execution_count": 15,
      "metadata": {},
      "outputs": [
        {
          "output_type": "execute_result",
          "data": {
            "text/plain": [
              "               count\n",
              "MSISDN/Number       \n",
              "3.360100e+10       1\n",
              "3.360100e+10       1\n",
              "3.360100e+10       1\n",
              "3.360101e+10       1\n",
              "3.360101e+10       2\n",
              "...              ...\n",
              "3.379000e+10       1\n",
              "3.379000e+10       1\n",
              "3.197021e+12       1\n",
              "3.370000e+14       1\n",
              "8.823971e+14       1\n",
              "\n",
              "[106856 rows x 1 columns]"
            ],
            "text/html": "<div>\n<style scoped>\n    .dataframe tbody tr th:only-of-type {\n        vertical-align: middle;\n    }\n\n    .dataframe tbody tr th {\n        vertical-align: top;\n    }\n\n    .dataframe thead th {\n        text-align: right;\n    }\n</style>\n<table border=\"1\" class=\"dataframe\">\n  <thead>\n    <tr style=\"text-align: right;\">\n      <th></th>\n      <th>count</th>\n    </tr>\n    <tr>\n      <th>MSISDN/Number</th>\n      <th></th>\n    </tr>\n  </thead>\n  <tbody>\n    <tr>\n      <th>3.360100e+10</th>\n      <td>1</td>\n    </tr>\n    <tr>\n      <th>3.360100e+10</th>\n      <td>1</td>\n    </tr>\n    <tr>\n      <th>3.360100e+10</th>\n      <td>1</td>\n    </tr>\n    <tr>\n      <th>3.360101e+10</th>\n      <td>1</td>\n    </tr>\n    <tr>\n      <th>3.360101e+10</th>\n      <td>2</td>\n    </tr>\n    <tr>\n      <th>...</th>\n      <td>...</td>\n    </tr>\n    <tr>\n      <th>3.379000e+10</th>\n      <td>1</td>\n    </tr>\n    <tr>\n      <th>3.379000e+10</th>\n      <td>1</td>\n    </tr>\n    <tr>\n      <th>3.197021e+12</th>\n      <td>1</td>\n    </tr>\n    <tr>\n      <th>3.370000e+14</th>\n      <td>1</td>\n    </tr>\n    <tr>\n      <th>8.823971e+14</th>\n      <td>1</td>\n    </tr>\n  </tbody>\n</table>\n<p>106856 rows × 1 columns</p>\n</div>"
          },
          "metadata": {},
          "execution_count": 15
        }
      ],
      "source": [
        "user_grp = df_clean.groupby(['MSISDN/Number'])\n",
        "user_grp['Bearer Id'].agg(['count'])"
      ]
    },
    {
      "cell_type": "code",
      "metadata": {
        "id": "Eo-cDTq26ECK"
      },
      "source": [
        "df_agg = df_clean.groupby(\n",
        "   'MSISDN/Number'\n",
        ").agg(\n",
        "    {\n",
        "    \n",
        "          'Dur. (ms)':sum,\n",
        "          'Total_UL_DL':sum,\n",
        "          'Social Media_UL_DL':sum,\n",
        "          'Google_UL_DL':sum,\n",
        "          'Email_UL_DL':sum,\n",
        "          'Youtube_UL_DL':sum,\n",
        "          'Netflix_UL_DL':sum,\n",
        "          'Gaming_UL_DL':sum,\n",
        "          'Other_UL_DL':sum,\n",
        "        \n",
        "    }\n",
        ")"
      ],
      "execution_count": 16,
      "outputs": []
    },
    {
      "cell_type": "code",
      "execution_count": 17,
      "metadata": {},
      "outputs": [
        {
          "output_type": "execute_result",
          "data": {
            "text/plain": [
              "               Dur. (ms)   Total_UL_DL  Social Media_UL_DL  Google_UL_DL  \\\n",
              "MSISDN/Number                                                              \n",
              "3.360100e+10    116720.0  8.786906e+08           2232135.0     4389005.0   \n",
              "3.360100e+10    181230.0  1.568596e+08           2660565.0     5334863.0   \n",
              "3.360100e+10    134969.0  5.959665e+08           3195623.0     3443126.0   \n",
              "3.360101e+10     49878.0  4.223207e+08            280294.0     9678493.0   \n",
              "3.360101e+10     37104.0  1.457411e+09           2912542.0    18499616.0   \n",
              "...                  ...           ...                 ...           ...   \n",
              "3.379000e+10      8810.0  7.146416e+08            300183.0     7531269.0   \n",
              "3.379000e+10    140988.0  4.803073e+08            498569.0     5429705.0   \n",
              "3.197021e+12    877385.0  2.321240e+08            715224.0    10438660.0   \n",
              "3.370000e+14    253030.0  5.962878e+08            521566.0     9830617.0   \n",
              "8.823971e+14    869844.0  1.391536e+08           1546088.0     9218647.0   \n",
              "\n",
              "               Email_UL_DL  Youtube_UL_DL  Netflix_UL_DL  Gaming_UL_DL  \\\n",
              "MSISDN/Number                                                            \n",
              "3.360100e+10     1674800.0     29800402.0     27180981.0  8.124587e+08   \n",
              "3.360100e+10     5657642.0     10648502.0     11221763.0  1.197501e+08   \n",
              "3.360100e+10     4873000.0      4274544.0     19353900.0  5.388277e+08   \n",
              "3.360101e+10     4357236.0      8786246.0      1942092.0  3.911261e+08   \n",
              "3.360101e+10     4495616.0     20679942.0     49201724.0  1.314798e+09   \n",
              "...                    ...            ...            ...           ...   \n",
              "3.379000e+10      961892.0     16588620.0     14902538.0  6.603614e+08   \n",
              "3.379000e+10     5026866.0     11193724.0      8531060.0  4.370033e+08   \n",
              "3.197021e+12     1684558.0     19679778.0     26592300.0  1.780487e+08   \n",
              "3.370000e+14     5979326.0     33381456.0     30905042.0  5.101427e+08   \n",
              "8.823971e+14     5036850.0     37960640.0     28846230.0  4.307026e+07   \n",
              "\n",
              "               Other_UL_DL  \n",
              "MSISDN/Number               \n",
              "3.360100e+10   386570872.0  \n",
              "3.360100e+10   281710071.0  \n",
              "3.360100e+10   501693672.0  \n",
              "3.360101e+10    35279702.0  \n",
              "3.360101e+10   804804484.0  \n",
              "...                    ...  \n",
              "3.379000e+10   295282817.0  \n",
              "3.379000e+10   211115113.0  \n",
              "3.197021e+12   470526473.0  \n",
              "3.370000e+14   149188439.0  \n",
              "8.823971e+14   401360457.0  \n",
              "\n",
              "[106856 rows x 9 columns]"
            ],
            "text/html": "<div>\n<style scoped>\n    .dataframe tbody tr th:only-of-type {\n        vertical-align: middle;\n    }\n\n    .dataframe tbody tr th {\n        vertical-align: top;\n    }\n\n    .dataframe thead th {\n        text-align: right;\n    }\n</style>\n<table border=\"1\" class=\"dataframe\">\n  <thead>\n    <tr style=\"text-align: right;\">\n      <th></th>\n      <th>Dur. (ms)</th>\n      <th>Total_UL_DL</th>\n      <th>Social Media_UL_DL</th>\n      <th>Google_UL_DL</th>\n      <th>Email_UL_DL</th>\n      <th>Youtube_UL_DL</th>\n      <th>Netflix_UL_DL</th>\n      <th>Gaming_UL_DL</th>\n      <th>Other_UL_DL</th>\n    </tr>\n    <tr>\n      <th>MSISDN/Number</th>\n      <th></th>\n      <th></th>\n      <th></th>\n      <th></th>\n      <th></th>\n      <th></th>\n      <th></th>\n      <th></th>\n      <th></th>\n    </tr>\n  </thead>\n  <tbody>\n    <tr>\n      <th>3.360100e+10</th>\n      <td>116720.0</td>\n      <td>8.786906e+08</td>\n      <td>2232135.0</td>\n      <td>4389005.0</td>\n      <td>1674800.0</td>\n      <td>29800402.0</td>\n      <td>27180981.0</td>\n      <td>8.124587e+08</td>\n      <td>386570872.0</td>\n    </tr>\n    <tr>\n      <th>3.360100e+10</th>\n      <td>181230.0</td>\n      <td>1.568596e+08</td>\n      <td>2660565.0</td>\n      <td>5334863.0</td>\n      <td>5657642.0</td>\n      <td>10648502.0</td>\n      <td>11221763.0</td>\n      <td>1.197501e+08</td>\n      <td>281710071.0</td>\n    </tr>\n    <tr>\n      <th>3.360100e+10</th>\n      <td>134969.0</td>\n      <td>5.959665e+08</td>\n      <td>3195623.0</td>\n      <td>3443126.0</td>\n      <td>4873000.0</td>\n      <td>4274544.0</td>\n      <td>19353900.0</td>\n      <td>5.388277e+08</td>\n      <td>501693672.0</td>\n    </tr>\n    <tr>\n      <th>3.360101e+10</th>\n      <td>49878.0</td>\n      <td>4.223207e+08</td>\n      <td>280294.0</td>\n      <td>9678493.0</td>\n      <td>4357236.0</td>\n      <td>8786246.0</td>\n      <td>1942092.0</td>\n      <td>3.911261e+08</td>\n      <td>35279702.0</td>\n    </tr>\n    <tr>\n      <th>3.360101e+10</th>\n      <td>37104.0</td>\n      <td>1.457411e+09</td>\n      <td>2912542.0</td>\n      <td>18499616.0</td>\n      <td>4495616.0</td>\n      <td>20679942.0</td>\n      <td>49201724.0</td>\n      <td>1.314798e+09</td>\n      <td>804804484.0</td>\n    </tr>\n    <tr>\n      <th>...</th>\n      <td>...</td>\n      <td>...</td>\n      <td>...</td>\n      <td>...</td>\n      <td>...</td>\n      <td>...</td>\n      <td>...</td>\n      <td>...</td>\n      <td>...</td>\n    </tr>\n    <tr>\n      <th>3.379000e+10</th>\n      <td>8810.0</td>\n      <td>7.146416e+08</td>\n      <td>300183.0</td>\n      <td>7531269.0</td>\n      <td>961892.0</td>\n      <td>16588620.0</td>\n      <td>14902538.0</td>\n      <td>6.603614e+08</td>\n      <td>295282817.0</td>\n    </tr>\n    <tr>\n      <th>3.379000e+10</th>\n      <td>140988.0</td>\n      <td>4.803073e+08</td>\n      <td>498569.0</td>\n      <td>5429705.0</td>\n      <td>5026866.0</td>\n      <td>11193724.0</td>\n      <td>8531060.0</td>\n      <td>4.370033e+08</td>\n      <td>211115113.0</td>\n    </tr>\n    <tr>\n      <th>3.197021e+12</th>\n      <td>877385.0</td>\n      <td>2.321240e+08</td>\n      <td>715224.0</td>\n      <td>10438660.0</td>\n      <td>1684558.0</td>\n      <td>19679778.0</td>\n      <td>26592300.0</td>\n      <td>1.780487e+08</td>\n      <td>470526473.0</td>\n    </tr>\n    <tr>\n      <th>3.370000e+14</th>\n      <td>253030.0</td>\n      <td>5.962878e+08</td>\n      <td>521566.0</td>\n      <td>9830617.0</td>\n      <td>5979326.0</td>\n      <td>33381456.0</td>\n      <td>30905042.0</td>\n      <td>5.101427e+08</td>\n      <td>149188439.0</td>\n    </tr>\n    <tr>\n      <th>8.823971e+14</th>\n      <td>869844.0</td>\n      <td>1.391536e+08</td>\n      <td>1546088.0</td>\n      <td>9218647.0</td>\n      <td>5036850.0</td>\n      <td>37960640.0</td>\n      <td>28846230.0</td>\n      <td>4.307026e+07</td>\n      <td>401360457.0</td>\n    </tr>\n  </tbody>\n</table>\n<p>106856 rows × 9 columns</p>\n</div>"
          },
          "metadata": {},
          "execution_count": 17
        }
      ],
      "source": [
        "df_agg"
      ]
    },
    {
      "cell_type": "code",
      "metadata": {
        "id": "x0sUH_iO7OmA",
        "colab": {
          "base_uri": "https://localhost:8080/",
          "height": 306
        },
        "outputId": "d68d9029-1bf1-4810-b233-a0b8ba642ee9"
      },
      "source": [
        "df_clean.isnull().sum()\n"
      ],
      "execution_count": 18,
      "outputs": [
        {
          "output_type": "execute_result",
          "data": {
            "text/plain": [
              "Bearer Id                           991\n",
              "Start                                 1\n",
              "Start ms                              1\n",
              "End                                   1\n",
              "End ms                                1\n",
              "Dur. (ms)                             1\n",
              "IMSI                                570\n",
              "MSISDN/Number                      1066\n",
              "IMEI                                572\n",
              "Last Location Name                 1153\n",
              "Avg RTT DL (ms)                   27829\n",
              "Avg RTT UL (ms)                   27812\n",
              "Avg Bearer TP DL (kbps)               1\n",
              "Avg Bearer TP UL (kbps)               1\n",
              "DL TP < 50 Kbps (%)                 754\n",
              "50 Kbps < DL TP < 250 Kbps (%)      754\n",
              "250 Kbps < DL TP < 1 Mbps (%)       754\n",
              "DL TP > 1 Mbps (%)                  754\n",
              "UL TP < 10 Kbps (%)                 792\n",
              "10 Kbps < UL TP < 50 Kbps (%)       792\n",
              "50 Kbps < UL TP < 300 Kbps (%)      792\n",
              "UL TP > 300 Kbps (%)                792\n",
              "Activity Duration DL (ms)             1\n",
              "Activity Duration UL (ms)             1\n",
              "Dur. (ms).1                           1\n",
              "Handset Manufacturer                572\n",
              "Handset Type                        572\n",
              "Nb of sec with Vol DL < 6250B       755\n",
              "Nb of sec with Vol UL < 1250B       793\n",
              "Social Media DL (Bytes)               0\n",
              "Social Media UL (Bytes)               0\n",
              "Google DL (Bytes)                     0\n",
              "Google UL (Bytes)                     0\n",
              "Email DL (Bytes)                      0\n",
              "Email UL (Bytes)                      0\n",
              "Youtube DL (Bytes)                    0\n",
              "Youtube UL (Bytes)                    0\n",
              "Netflix DL (Bytes)                    0\n",
              "Netflix UL (Bytes)                    0\n",
              "Gaming DL (Bytes)                     0\n",
              "Gaming UL (Bytes)                     0\n",
              "Other DL (Bytes)                      0\n",
              "Other UL (Bytes)                      0\n",
              "Total UL (Bytes)                      1\n",
              "Total DL (Bytes)                      1\n",
              "Total_UL_DL                           1\n",
              "Social Media_UL_DL                    0\n",
              "Google_UL_DL                          0\n",
              "Email_UL_DL                           0\n",
              "Youtube_UL_DL                         0\n",
              "Netflix_UL_DL                         0\n",
              "Gaming_UL_DL                          0\n",
              "Other_UL_DL                           0\n",
              "dtype: int64"
            ]
          },
          "metadata": {},
          "execution_count": 18
        }
      ]
    },
    {
      "cell_type": "code",
      "metadata": {
        "id": "aYczKOvUyPiZ",
        "outputId": "9e9859bb-db04-4431-daca-d5b0222e1178",
        "colab": {
          "base_uri": "https://localhost:8080/"
        }
      },
      "source": [
        "skewValue = df_clean.skew(axis=0)\n",
        "skewValue"
      ],
      "execution_count": 19,
      "outputs": [
        {
          "output_type": "execute_result",
          "data": {
            "text/plain": [
              "Bearer Id                           0.026666\n",
              "Start ms                            0.000968\n",
              "End ms                             -0.001163\n",
              "Dur. (ms)                           3.952609\n",
              "IMSI                               41.045956\n",
              "MSISDN/Number                     332.155856\n",
              "IMEI                                1.071470\n",
              "Avg RTT DL (ms)                    62.907828\n",
              "Avg RTT UL (ms)                    28.457415\n",
              "Avg Bearer TP DL (kbps)             2.589437\n",
              "Avg Bearer TP UL (kbps)             4.503413\n",
              "DL TP < 50 Kbps (%)                -2.297803\n",
              "50 Kbps < DL TP < 250 Kbps (%)      3.271453\n",
              "250 Kbps < DL TP < 1 Mbps (%)       4.566158\n",
              "DL TP > 1 Mbps (%)                  5.370351\n",
              "UL TP < 10 Kbps (%)                -8.985016\n",
              "10 Kbps < UL TP < 50 Kbps (%)      10.943888\n",
              "50 Kbps < UL TP < 300 Kbps (%)     21.878495\n",
              "UL TP > 300 Kbps (%)               36.174053\n",
              "Activity Duration DL (ms)           5.872256\n",
              "Activity Duration UL (ms)           7.382557\n",
              "Dur. (ms).1                         3.952609\n",
              "Nb of sec with Vol DL < 6250B       9.042166\n",
              "Nb of sec with Vol UL < 1250B       7.495176\n",
              "Social Media DL (Bytes)            -0.002136\n",
              "Social Media UL (Bytes)            -0.000359\n",
              "Google DL (Bytes)                  -0.008092\n",
              "Google UL (Bytes)                   0.002216\n",
              "Email DL (Bytes)                   -0.002463\n",
              "Email UL (Bytes)                    0.007358\n",
              "Youtube DL (Bytes)                  0.000231\n",
              "Youtube UL (Bytes)                 -0.001142\n",
              "Netflix DL (Bytes)                 -0.002442\n",
              "Netflix UL (Bytes)                 -0.000113\n",
              "Gaming DL (Bytes)                  -0.003460\n",
              "Gaming UL (Bytes)                  -0.001840\n",
              "Other DL (Bytes)                    0.001400\n",
              "Other UL (Bytes)                    0.001392\n",
              "Total UL (Bytes)                   -0.002456\n",
              "Total DL (Bytes)                   -0.003153\n",
              "Total_UL_DL                        -0.002457\n",
              "Social Media_UL_DL                 -0.002121\n",
              "Google_UL_DL                       -0.010602\n",
              "Email_UL_DL                        -0.002463\n",
              "Youtube_UL_DL                       0.000231\n",
              "Netflix_UL_DL                      -0.000409\n",
              "Gaming_UL_DL                       -0.003225\n",
              "Other_UL_DL                         0.001256\n",
              "dtype: float64"
            ]
          },
          "metadata": {},
          "execution_count": 19
        }
      ]
    },
    {
      "cell_type": "code",
      "metadata": {
        "id": "VJZw1K4D1Yig"
      },
      "source": [
        "# fill missing with ffill method or bfill for column (Bearer Id) since it is a categorical feature\n",
        "\n",
        "def fix_missing_ffill(df, col):\n",
        "    df[col] = df[col].fillna(method='ffill')\n",
        "    return df[col]\n",
        "\n",
        "\n",
        "def fix_missing_bfill(df, col):\n",
        "    df[col] = df[col].fillna(method='bfill')\n",
        "    return df[col]\n",
        "df_clean['Bearer Id'] = fix_missing_ffill(df_clean, 'Bearer Id')\n",
        "\n",
        "# fill 'Dur. (ms)' column with mode since the skewness of the column is higher\n",
        "def fix_missing_mode(df, col):\n",
        "    df[col] = df[col].fillna(df[col].mode()[0])\n",
        "    return df[col]\n",
        "\n",
        "df_clean['Dur. (ms)'] = fix_missing_mode(df_clean, 'Dur. (ms)')\n",
        "\n",
        "# fill missing value with mean for column that has no skew number\n",
        "def fix_missing_mean(df, col):\n",
        "    df[col] = df[col].fillna(df[col].mean())\n",
        "    return df[col]\n",
        "\n",
        "df_clean['Total_UL_DL'] = fix_missing_mode(df_clean, 'Total_UL_DL')\n",
        "df_clean['Social Media_UL_DL'] = fix_missing_mode(df_clean, 'Social Media_UL_DL')\n",
        "df_clean['Social Media_UL_DL'] = fix_missing_mode(df_clean, 'Social Media_UL_DL')\n",
        "\n"
      ],
      "execution_count": 32,
      "outputs": []
    },
    {
      "cell_type": "code",
      "metadata": {
        "colab": {
          "base_uri": "https://localhost:8080/"
        },
        "id": "CHWWSoKFPPC2",
        "outputId": "30e3dee1-9400-4693-93d3-1aceeb6fee07"
      },
      "source": [
        "# which column(s) has missing values\n",
        "df_clean.isnull().sum()"
      ],
      "execution_count": 34,
      "outputs": [
        {
          "output_type": "execute_result",
          "data": {
            "text/plain": [
              "Bearer Id                             0\n",
              "Start                                 1\n",
              "Start ms                              1\n",
              "End                                   1\n",
              "End ms                                1\n",
              "Dur. (ms)                             0\n",
              "IMSI                                570\n",
              "MSISDN/Number                      1066\n",
              "IMEI                                572\n",
              "Last Location Name                 1153\n",
              "Avg RTT DL (ms)                   27829\n",
              "Avg RTT UL (ms)                   27812\n",
              "Avg Bearer TP DL (kbps)               1\n",
              "Avg Bearer TP UL (kbps)               1\n",
              "DL TP < 50 Kbps (%)                 754\n",
              "50 Kbps < DL TP < 250 Kbps (%)      754\n",
              "250 Kbps < DL TP < 1 Mbps (%)       754\n",
              "DL TP > 1 Mbps (%)                  754\n",
              "UL TP < 10 Kbps (%)                 792\n",
              "10 Kbps < UL TP < 50 Kbps (%)       792\n",
              "50 Kbps < UL TP < 300 Kbps (%)      792\n",
              "UL TP > 300 Kbps (%)                792\n",
              "Activity Duration DL (ms)             1\n",
              "Activity Duration UL (ms)             1\n",
              "Dur. (ms).1                           1\n",
              "Handset Manufacturer                572\n",
              "Handset Type                        572\n",
              "Nb of sec with Vol DL < 6250B       755\n",
              "Nb of sec with Vol UL < 1250B       793\n",
              "Social Media DL (Bytes)               0\n",
              "Social Media UL (Bytes)               0\n",
              "Google DL (Bytes)                     0\n",
              "Google UL (Bytes)                     0\n",
              "Email DL (Bytes)                      0\n",
              "Email UL (Bytes)                      0\n",
              "Youtube DL (Bytes)                    0\n",
              "Youtube UL (Bytes)                    0\n",
              "Netflix DL (Bytes)                    0\n",
              "Netflix UL (Bytes)                    0\n",
              "Gaming DL (Bytes)                     0\n",
              "Gaming UL (Bytes)                     0\n",
              "Other DL (Bytes)                      0\n",
              "Other UL (Bytes)                      0\n",
              "Total UL (Bytes)                      1\n",
              "Total DL (Bytes)                      1\n",
              "Total_UL_DL                           0\n",
              "Social Media_UL_DL                    0\n",
              "Google_UL_DL                          0\n",
              "Email_UL_DL                           0\n",
              "Youtube_UL_DL                         0\n",
              "Netflix_UL_DL                         0\n",
              "Gaming_UL_DL                          0\n",
              "Other_UL_DL                           0\n",
              "dtype: int64"
            ]
          },
          "metadata": {},
          "execution_count": 34
        }
      ]
    },
    {
      "cell_type": "code",
      "execution_count": null,
      "metadata": {},
      "outputs": [],
      "source": [
        ",'Email_UL_DL','Youtube_UL_DL','Netflix_UL_DL','Gaming_UL_DL','Other_UL_DL','Google_UL_DL'"
      ]
    },
    {
      "cell_type": "code",
      "execution_count": 50,
      "metadata": {},
      "outputs": [],
      "source": [
        "df_agg_column = df_clean[['Bearer Id','Dur. (ms)']]"
      ]
    },
    {
      "cell_type": "code",
      "execution_count": 53,
      "metadata": {},
      "outputs": [],
      "source": [
        "df_agg_column[['Total_UL_DL','Email_UL_DL']]= df_clean[['Total_UL_DL','Email_UL_DL']]\n",
        "df_agg_column[['Youtube_UL_DL','Netflix_UL_DL']]= df_clean[['Youtube_UL_DL','Netflix_UL_DL']]\n",
        "df_agg_column[['Gaming_UL_DL','Other_UL_DL']]= df_clean[['Gaming_UL_DL','Other_UL_DL']]\n",
        "df_agg_column['Google_UL_DL']= df_clean['Google_UL_DL']\n"
      ]
    },
    {
      "cell_type": "code",
      "execution_count": null,
      "metadata": {},
      "outputs": [],
      "source": []
    }
  ]
}